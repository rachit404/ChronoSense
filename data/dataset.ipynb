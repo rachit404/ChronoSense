{
 "cells": [
  {
   "cell_type": "code",
   "execution_count": 2,
   "id": "6ef2747b",
   "metadata": {},
   "outputs": [
    {
     "data": {
      "application/vnd.microsoft.datawrangler.viewer.v0+json": {
       "columns": [
        {
         "name": "Date",
         "rawType": "datetime64[ns, America/New_York]",
         "type": "unknown"
        },
        {
         "name": "Open",
         "rawType": "float64",
         "type": "float"
        },
        {
         "name": "High",
         "rawType": "float64",
         "type": "float"
        },
        {
         "name": "Low",
         "rawType": "float64",
         "type": "float"
        },
        {
         "name": "Close",
         "rawType": "float64",
         "type": "float"
        },
        {
         "name": "Volume",
         "rawType": "int64",
         "type": "integer"
        },
        {
         "name": "Dividends",
         "rawType": "float64",
         "type": "float"
        },
        {
         "name": "Stock Splits",
         "rawType": "float64",
         "type": "float"
        }
       ],
       "ref": "96115594-3867-41cb-b755-1a3f4fa70a14",
       "rows": [
        [
         "2020-11-02 00:00:00-05:00",
         "80.85468386515178",
         "82.47410248300748",
         "80.25230739284342",
         "80.74890899658203",
         "50708000",
         "0.0",
         "0.0"
        ],
        [
         "2020-11-03 00:00:00-05:00",
         "81.03446140401488",
         "82.52029573143325",
         "80.281617663079",
         "81.94969940185547",
         "33234000",
         "0.0",
         "0.0"
        ],
        [
         "2020-11-04 00:00:00-05:00",
         "84.93278125242438",
         "87.9662748351412",
         "84.721724049789",
         "86.86207580566406",
         "71418000",
         "0.0",
         "0.0"
        ],
        [
         "2020-11-05 00:00:00-05:00",
         "88.44475330060617",
         "89.07245394160914",
         "86.93060935423904",
         "87.56924438476562",
         "41316000",
         "0.0",
         "0.0"
        ],
        [
         "2020-11-06 00:00:00-05:00",
         "87.10145135543723",
         "88.0191672335344",
         "86.42607278637671",
         "87.48880004882812",
         "33218000",
         "0.0",
         "0.0"
        ]
       ],
       "shape": {
        "columns": 7,
        "rows": 5
       }
      },
      "text/html": [
       "<div>\n",
       "<style scoped>\n",
       "    .dataframe tbody tr th:only-of-type {\n",
       "        vertical-align: middle;\n",
       "    }\n",
       "\n",
       "    .dataframe tbody tr th {\n",
       "        vertical-align: top;\n",
       "    }\n",
       "\n",
       "    .dataframe thead th {\n",
       "        text-align: right;\n",
       "    }\n",
       "</style>\n",
       "<table border=\"1\" class=\"dataframe\">\n",
       "  <thead>\n",
       "    <tr style=\"text-align: right;\">\n",
       "      <th></th>\n",
       "      <th>Open</th>\n",
       "      <th>High</th>\n",
       "      <th>Low</th>\n",
       "      <th>Close</th>\n",
       "      <th>Volume</th>\n",
       "      <th>Dividends</th>\n",
       "      <th>Stock Splits</th>\n",
       "    </tr>\n",
       "    <tr>\n",
       "      <th>Date</th>\n",
       "      <th></th>\n",
       "      <th></th>\n",
       "      <th></th>\n",
       "      <th></th>\n",
       "      <th></th>\n",
       "      <th></th>\n",
       "      <th></th>\n",
       "    </tr>\n",
       "  </thead>\n",
       "  <tbody>\n",
       "    <tr>\n",
       "      <th>2020-11-02 00:00:00-05:00</th>\n",
       "      <td>80.854684</td>\n",
       "      <td>82.474102</td>\n",
       "      <td>80.252307</td>\n",
       "      <td>80.748909</td>\n",
       "      <td>50708000</td>\n",
       "      <td>0.0</td>\n",
       "      <td>0.0</td>\n",
       "    </tr>\n",
       "    <tr>\n",
       "      <th>2020-11-03 00:00:00-05:00</th>\n",
       "      <td>81.034461</td>\n",
       "      <td>82.520296</td>\n",
       "      <td>80.281618</td>\n",
       "      <td>81.949699</td>\n",
       "      <td>33234000</td>\n",
       "      <td>0.0</td>\n",
       "      <td>0.0</td>\n",
       "    </tr>\n",
       "    <tr>\n",
       "      <th>2020-11-04 00:00:00-05:00</th>\n",
       "      <td>84.932781</td>\n",
       "      <td>87.966275</td>\n",
       "      <td>84.721724</td>\n",
       "      <td>86.862076</td>\n",
       "      <td>71418000</td>\n",
       "      <td>0.0</td>\n",
       "      <td>0.0</td>\n",
       "    </tr>\n",
       "    <tr>\n",
       "      <th>2020-11-05 00:00:00-05:00</th>\n",
       "      <td>88.444753</td>\n",
       "      <td>89.072454</td>\n",
       "      <td>86.930609</td>\n",
       "      <td>87.569244</td>\n",
       "      <td>41316000</td>\n",
       "      <td>0.0</td>\n",
       "      <td>0.0</td>\n",
       "    </tr>\n",
       "    <tr>\n",
       "      <th>2020-11-06 00:00:00-05:00</th>\n",
       "      <td>87.101451</td>\n",
       "      <td>88.019167</td>\n",
       "      <td>86.426073</td>\n",
       "      <td>87.488800</td>\n",
       "      <td>33218000</td>\n",
       "      <td>0.0</td>\n",
       "      <td>0.0</td>\n",
       "    </tr>\n",
       "  </tbody>\n",
       "</table>\n",
       "</div>"
      ],
      "text/plain": [
       "                                Open       High        Low      Close  \\\n",
       "Date                                                                    \n",
       "2020-11-02 00:00:00-05:00  80.854684  82.474102  80.252307  80.748909   \n",
       "2020-11-03 00:00:00-05:00  81.034461  82.520296  80.281618  81.949699   \n",
       "2020-11-04 00:00:00-05:00  84.932781  87.966275  84.721724  86.862076   \n",
       "2020-11-05 00:00:00-05:00  88.444753  89.072454  86.930609  87.569244   \n",
       "2020-11-06 00:00:00-05:00  87.101451  88.019167  86.426073  87.488800   \n",
       "\n",
       "                             Volume  Dividends  Stock Splits  \n",
       "Date                                                          \n",
       "2020-11-02 00:00:00-05:00  50708000        0.0           0.0  \n",
       "2020-11-03 00:00:00-05:00  33234000        0.0           0.0  \n",
       "2020-11-04 00:00:00-05:00  71418000        0.0           0.0  \n",
       "2020-11-05 00:00:00-05:00  41316000        0.0           0.0  \n",
       "2020-11-06 00:00:00-05:00  33218000        0.0           0.0  "
      ]
     },
     "metadata": {},
     "output_type": "display_data"
    }
   ],
   "source": [
    "import yfinance as yf\n",
    "import pandas as pd\n",
    "\n",
    "# Get 5 years of historical data for 'GOOG'\n",
    "ticker = yf.Ticker('GOOG')\n",
    "data = ticker.history(period='5y')\n",
    "\n",
    "# Create a DataFrame\n",
    "df = pd.DataFrame(data)\n",
    "\n",
    "# Display the first few rows of the DataFrame\n",
    "display(df.head())"
   ]
  },
  {
   "cell_type": "code",
   "execution_count": 3,
   "id": "9f3a1d2a",
   "metadata": {},
   "outputs": [
    {
     "data": {
      "application/vnd.microsoft.datawrangler.viewer.v0+json": {
       "columns": [
        {
         "name": "Date",
         "rawType": "datetime64[ns, America/New_York]",
         "type": "unknown"
        },
        {
         "name": "Open",
         "rawType": "float64",
         "type": "float"
        },
        {
         "name": "High",
         "rawType": "float64",
         "type": "float"
        },
        {
         "name": "Low",
         "rawType": "float64",
         "type": "float"
        },
        {
         "name": "Close",
         "rawType": "float64",
         "type": "float"
        },
        {
         "name": "Volume",
         "rawType": "int64",
         "type": "integer"
        },
        {
         "name": "Dividends",
         "rawType": "float64",
         "type": "float"
        },
        {
         "name": "Stock Splits",
         "rawType": "float64",
         "type": "float"
        }
       ],
       "ref": "01f62bee-ef11-4e6b-9245-7c5938a48b58",
       "rows": [
        [
         "2025-10-27 00:00:00-04:00",
         "265.3599853515625",
         "270.79998779296875",
         "264.94000244140625",
         "269.92999267578125",
         "22987700",
         "0.0",
         "0.0"
        ],
        [
         "2025-10-28 00:00:00-04:00",
         "270.20001220703125",
         "271.3800048828125",
         "267.1700134277344",
         "268.42999267578125",
         "20101200",
         "0.0",
         "0.0"
        ],
        [
         "2025-10-29 00:00:00-04:00",
         "268.6099853515625",
         "275.9700012207031",
         "268.42999267578125",
         "275.1700134277344",
         "26287900",
         "0.0",
         "0.0"
        ],
        [
         "2025-10-30 00:00:00-04:00",
         "291.7200012207031",
         "291.92999267578125",
         "280.45001220703125",
         "281.8999938964844",
         "48570000",
         "0.0",
         "0.0"
        ],
        [
         "2025-10-31 00:00:00-04:00",
         "283.2049865722656",
         "286.2850036621094",
         "277.52301025390625",
         "281.82000732421875",
         "29902500",
         "0.0",
         "0.0"
        ]
       ],
       "shape": {
        "columns": 7,
        "rows": 5
       }
      },
      "text/html": [
       "<div>\n",
       "<style scoped>\n",
       "    .dataframe tbody tr th:only-of-type {\n",
       "        vertical-align: middle;\n",
       "    }\n",
       "\n",
       "    .dataframe tbody tr th {\n",
       "        vertical-align: top;\n",
       "    }\n",
       "\n",
       "    .dataframe thead th {\n",
       "        text-align: right;\n",
       "    }\n",
       "</style>\n",
       "<table border=\"1\" class=\"dataframe\">\n",
       "  <thead>\n",
       "    <tr style=\"text-align: right;\">\n",
       "      <th></th>\n",
       "      <th>Open</th>\n",
       "      <th>High</th>\n",
       "      <th>Low</th>\n",
       "      <th>Close</th>\n",
       "      <th>Volume</th>\n",
       "      <th>Dividends</th>\n",
       "      <th>Stock Splits</th>\n",
       "    </tr>\n",
       "    <tr>\n",
       "      <th>Date</th>\n",
       "      <th></th>\n",
       "      <th></th>\n",
       "      <th></th>\n",
       "      <th></th>\n",
       "      <th></th>\n",
       "      <th></th>\n",
       "      <th></th>\n",
       "    </tr>\n",
       "  </thead>\n",
       "  <tbody>\n",
       "    <tr>\n",
       "      <th>2025-10-27 00:00:00-04:00</th>\n",
       "      <td>265.359985</td>\n",
       "      <td>270.799988</td>\n",
       "      <td>264.940002</td>\n",
       "      <td>269.929993</td>\n",
       "      <td>22987700</td>\n",
       "      <td>0.0</td>\n",
       "      <td>0.0</td>\n",
       "    </tr>\n",
       "    <tr>\n",
       "      <th>2025-10-28 00:00:00-04:00</th>\n",
       "      <td>270.200012</td>\n",
       "      <td>271.380005</td>\n",
       "      <td>267.170013</td>\n",
       "      <td>268.429993</td>\n",
       "      <td>20101200</td>\n",
       "      <td>0.0</td>\n",
       "      <td>0.0</td>\n",
       "    </tr>\n",
       "    <tr>\n",
       "      <th>2025-10-29 00:00:00-04:00</th>\n",
       "      <td>268.609985</td>\n",
       "      <td>275.970001</td>\n",
       "      <td>268.429993</td>\n",
       "      <td>275.170013</td>\n",
       "      <td>26287900</td>\n",
       "      <td>0.0</td>\n",
       "      <td>0.0</td>\n",
       "    </tr>\n",
       "    <tr>\n",
       "      <th>2025-10-30 00:00:00-04:00</th>\n",
       "      <td>291.720001</td>\n",
       "      <td>291.929993</td>\n",
       "      <td>280.450012</td>\n",
       "      <td>281.899994</td>\n",
       "      <td>48570000</td>\n",
       "      <td>0.0</td>\n",
       "      <td>0.0</td>\n",
       "    </tr>\n",
       "    <tr>\n",
       "      <th>2025-10-31 00:00:00-04:00</th>\n",
       "      <td>283.204987</td>\n",
       "      <td>286.285004</td>\n",
       "      <td>277.523010</td>\n",
       "      <td>281.820007</td>\n",
       "      <td>29902500</td>\n",
       "      <td>0.0</td>\n",
       "      <td>0.0</td>\n",
       "    </tr>\n",
       "  </tbody>\n",
       "</table>\n",
       "</div>"
      ],
      "text/plain": [
       "                                 Open        High         Low       Close  \\\n",
       "Date                                                                        \n",
       "2025-10-27 00:00:00-04:00  265.359985  270.799988  264.940002  269.929993   \n",
       "2025-10-28 00:00:00-04:00  270.200012  271.380005  267.170013  268.429993   \n",
       "2025-10-29 00:00:00-04:00  268.609985  275.970001  268.429993  275.170013   \n",
       "2025-10-30 00:00:00-04:00  291.720001  291.929993  280.450012  281.899994   \n",
       "2025-10-31 00:00:00-04:00  283.204987  286.285004  277.523010  281.820007   \n",
       "\n",
       "                             Volume  Dividends  Stock Splits  \n",
       "Date                                                          \n",
       "2025-10-27 00:00:00-04:00  22987700        0.0           0.0  \n",
       "2025-10-28 00:00:00-04:00  20101200        0.0           0.0  \n",
       "2025-10-29 00:00:00-04:00  26287900        0.0           0.0  \n",
       "2025-10-30 00:00:00-04:00  48570000        0.0           0.0  \n",
       "2025-10-31 00:00:00-04:00  29902500        0.0           0.0  "
      ]
     },
     "metadata": {},
     "output_type": "display_data"
    }
   ],
   "source": [
    "display(df.tail())"
   ]
  },
  {
   "cell_type": "code",
   "execution_count": 4,
   "id": "bbd446f3",
   "metadata": {},
   "outputs": [
    {
     "name": "stdout",
     "output_type": "stream",
     "text": [
      "DataFrame saved to goog_stock_data.csv\n"
     ]
    }
   ],
   "source": [
    "# Save the DataFrame to a CSV file\n",
    "df.to_csv('goog_stock_data.csv')\n",
    "\n",
    "print(\"DataFrame saved to goog_stock_data.csv\")"
   ]
  },
  {
   "cell_type": "code",
   "execution_count": null,
   "id": "7133f150",
   "metadata": {},
   "outputs": [],
   "source": []
  }
 ],
 "metadata": {
  "kernelspec": {
   "display_name": "ChronoSense",
   "language": "python",
   "name": "python3"
  },
  "language_info": {
   "codemirror_mode": {
    "name": "ipython",
    "version": 3
   },
   "file_extension": ".py",
   "mimetype": "text/x-python",
   "name": "python",
   "nbconvert_exporter": "python",
   "pygments_lexer": "ipython3",
   "version": "3.12.10"
  }
 },
 "nbformat": 4,
 "nbformat_minor": 5
}
